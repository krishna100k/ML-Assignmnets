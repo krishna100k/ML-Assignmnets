{
 "cells": [
  {
   "cell_type": "code",
   "execution_count": 67,
   "id": "051b7fed",
   "metadata": {},
   "outputs": [],
   "source": [
    "import numpy as np"
   ]
  },
  {
   "cell_type": "code",
   "execution_count": 68,
   "id": "49d0787a",
   "metadata": {},
   "outputs": [],
   "source": [
    "SIZE = 5"
   ]
  },
  {
   "cell_type": "code",
   "execution_count": 69,
   "id": "e03ac8b7",
   "metadata": {},
   "outputs": [],
   "source": [
    "class agent: \n",
    "    def __init__(self, pos):\n",
    "        self.pos = pos\n",
    "        self.rew = 0\n",
    "        \n",
    "    def move (self, a):\n",
    "        newPos = np.array(self.pos)\n",
    "        \n",
    "        if a == 0:\n",
    "            newPos = newPos + [-1, 0]\n",
    "            \n",
    "        if a == 1:\n",
    "            newPos = newPos + [0, 1]\n",
    "            \n",
    "        if a == 2:\n",
    "            newPos = newPos + [1, 0]\n",
    "            \n",
    "        if a == 3:\n",
    "            newPos = newPos + [0, -1]\n",
    "            \n",
    "        if not ((newPos[0] < 0 or newPos[0] > SIZE - 1) or (newPos[1] > SIZE - 1) or newPos[1] < 0):\n",
    "            self.pos = tuple(newPos)\n",
    "            #If the boundary comes true then the position is not updated otherwise the movements will happen normally"
   ]
  },
  {
   "cell_type": "code",
   "execution_count": 70,
   "id": "5f6ce399",
   "metadata": {},
   "outputs": [],
   "source": [
    "OBSTACLES = [(1,3), (2,1), (2,2), (4,0), (4,2), (3,4)]"
   ]
  },
  {
   "cell_type": "code",
   "execution_count": 71,
   "id": "45c3de52",
   "metadata": {},
   "outputs": [],
   "source": [
    "START = (0,0)\n",
    "FINISH = (4,4)\n",
    "\n",
    "OBSrew = -30\n",
    "WINrew = 30\n",
    "MOVErew = -1\n",
    "\n",
    "lr = 0.8\n"
   ]
  },
  {
   "cell_type": "code",
   "execution_count": 72,
   "id": "6434491e",
   "metadata": {
    "scrolled": false
   },
   "outputs": [
    {
     "data": {
      "text/plain": [
       "array([[[0., 0., 0., 0.],\n",
       "        [0., 0., 0., 0.],\n",
       "        [0., 0., 0., 0.],\n",
       "        [0., 0., 0., 0.],\n",
       "        [0., 0., 0., 0.]],\n",
       "\n",
       "       [[0., 0., 0., 0.],\n",
       "        [0., 0., 0., 0.],\n",
       "        [0., 0., 0., 0.],\n",
       "        [0., 0., 0., 0.],\n",
       "        [0., 0., 0., 0.]],\n",
       "\n",
       "       [[0., 0., 0., 0.],\n",
       "        [0., 0., 0., 0.],\n",
       "        [0., 0., 0., 0.],\n",
       "        [0., 0., 0., 0.],\n",
       "        [0., 0., 0., 0.]],\n",
       "\n",
       "       [[0., 0., 0., 0.],\n",
       "        [0., 0., 0., 0.],\n",
       "        [0., 0., 0., 0.],\n",
       "        [0., 0., 0., 0.],\n",
       "        [0., 0., 0., 0.]],\n",
       "\n",
       "       [[0., 0., 0., 0.],\n",
       "        [0., 0., 0., 0.],\n",
       "        [0., 0., 0., 0.],\n",
       "        [0., 0., 0., 0.],\n",
       "        [0., 0., 0., 0.]]])"
      ]
     },
     "execution_count": 72,
     "metadata": {},
     "output_type": "execute_result"
    }
   ],
   "source": [
    "qt = np.zeros((SIZE, SIZE, 4))\n",
    "qt"
   ]
  },
  {
   "cell_type": "code",
   "execution_count": 73,
   "id": "fe3158a1",
   "metadata": {},
   "outputs": [
    {
     "data": {
      "text/plain": [
       "3"
      ]
     },
     "execution_count": 73,
     "metadata": {},
     "output_type": "execute_result"
    }
   ],
   "source": [
    "a = np.random.randint(0,4)\n",
    "a"
   ]
  },
  {
   "cell_type": "code",
   "execution_count": 74,
   "id": "0d40809d",
   "metadata": {},
   "outputs": [],
   "source": [
    "for ep in range(2000):\n",
    "    a = agent(START)\n",
    "    state = a.pos\n",
    "    for steps in range(30):\n",
    "        curr = 0\n",
    "        done = False\n",
    "        action = np.random.randint(0,4)\n",
    "        \n",
    "        if np.random.randint(1,101) < 60:\n",
    "            a.move(action)\n",
    "        else:\n",
    "            action = np.argmax(qt[a.pos])\n",
    "            a.move(action)\n",
    "            \n",
    "        curr = MOVErew\n",
    "        \n",
    "        if a.pos in OBSTACLES:\n",
    "            curr = OBSrew\n",
    "            done = True\n",
    "        \n",
    "        if a.pos == FINISH:\n",
    "            curr = WINrew\n",
    "            done = True\n",
    "                \n",
    "        a.rew = curr\n",
    "        \n",
    "        newstate = a.pos\n",
    "        \n",
    "        qt[state][action] = curr + lr * max(qt[a.pos])\n",
    "        \n",
    "        state = newstate\n",
    "        \n",
    "        if done:\n",
    "            break"
   ]
  },
  {
   "cell_type": "code",
   "execution_count": 75,
   "id": "6a1ced60",
   "metadata": {},
   "outputs": [
    {
     "data": {
      "text/plain": [
       "array([[[  0.8720256 ,  -0.30237952,   2.340032  ,   0.8720256 ],\n",
       "        [ -0.30237952,   0.8720256 ,   0.8720256 ,   0.8720256 ],\n",
       "        [  0.8720256 ,   2.340032  ,  -0.30237952,  -0.30237952],\n",
       "        [  2.340032  ,   4.17504   , -30.        ,   0.8720256 ],\n",
       "        [  4.17504   ,   4.17504   ,   6.4688    ,   2.340032  ]],\n",
       "\n",
       "       [[  0.8720256 ,   0.8720256 ,   4.17504   ,   2.340032  ],\n",
       "        [ -0.30237952,  -0.30237952, -30.        ,   2.340032  ],\n",
       "        [  0.8720256 , -30.        , -30.        ,   0.8720256 ],\n",
       "        [  0.        ,   0.        ,   0.        ,   0.        ],\n",
       "        [  4.17504   ,   6.4688    ,   9.336     , -30.        ]],\n",
       "\n",
       "       [[  2.340032  , -30.        ,   6.4688    ,   4.17504   ],\n",
       "        [  0.        ,   0.        ,   0.        ,   0.        ],\n",
       "        [  0.        ,   0.        ,   0.        ,   0.        ],\n",
       "        [-30.        ,   9.336     ,  17.4       , -30.        ],\n",
       "        [  6.4688    ,   9.336     , -30.        ,  12.92      ]],\n",
       "\n",
       "       [[  4.17504   ,   9.336     , -30.        ,   6.4688    ],\n",
       "        [-30.        ,  12.92      ,   6.4688    ,   6.4688    ],\n",
       "        [-30.        ,  17.4       , -30.        ,   9.336     ],\n",
       "        [ 12.92      , -30.        ,  23.        ,  12.92      ],\n",
       "        [  0.        ,   0.        ,   0.        ,   0.        ]],\n",
       "\n",
       "       [[  0.        ,   0.        ,   0.        ,   0.        ],\n",
       "        [  9.336     , -30.        ,   6.4688    , -30.        ],\n",
       "        [  0.        ,   0.        ,   0.        ,   0.        ],\n",
       "        [ 17.4       ,  30.        ,  23.        , -30.        ],\n",
       "        [  0.        ,   0.        ,   0.        ,   0.        ]]])"
      ]
     },
     "execution_count": 75,
     "metadata": {},
     "output_type": "execute_result"
    }
   ],
   "source": [
    "qt"
   ]
  },
  {
   "cell_type": "code",
   "execution_count": 77,
   "id": "bc5362e9",
   "metadata": {},
   "outputs": [
    {
     "name": "stdout",
     "output_type": "stream",
     "text": [
      "(1, 0)\n",
      "(2, 0)\n",
      "(3, 0)\n",
      "(3, 1)\n",
      "(3, 2)\n",
      "(3, 3)\n",
      "(4, 3)\n",
      "(4, 4)\n"
     ]
    }
   ],
   "source": [
    "\n",
    "a = agent(START)\n",
    "state = a.pos\n",
    "for steps in range(30):\n",
    "    curr = 0\n",
    "    done = False\n",
    "\n",
    "    action = np.argmax(qt[a.pos])\n",
    "    a.move(action)\n",
    "\n",
    "    curr = MOVErew\n",
    "\n",
    "    if a.pos in OBSTACLES:\n",
    "        curr = OBSrew\n",
    "        done = True\n",
    "\n",
    "    if a.pos == FINISH:\n",
    "        curr = WINrew\n",
    "        done = True\n",
    "\n",
    "    a.rew = curr\n",
    "\n",
    "    newstate = a.pos\n",
    "\n",
    "    qt[state][action] = curr + lr * max(qt[a.pos])\n",
    "\n",
    "    state = newstate\n",
    "    print(a.pos)\n",
    "    if done:\n",
    "        break"
   ]
  },
  {
   "cell_type": "code",
   "execution_count": null,
   "id": "85969452",
   "metadata": {},
   "outputs": [],
   "source": []
  }
 ],
 "metadata": {
  "kernelspec": {
   "display_name": "Python 3 (ipykernel)",
   "language": "python",
   "name": "python3"
  },
  "language_info": {
   "codemirror_mode": {
    "name": "ipython",
    "version": 3
   },
   "file_extension": ".py",
   "mimetype": "text/x-python",
   "name": "python",
   "nbconvert_exporter": "python",
   "pygments_lexer": "ipython3",
   "version": "3.9.13"
  }
 },
 "nbformat": 4,
 "nbformat_minor": 5
}
