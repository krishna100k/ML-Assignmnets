{
 "cells": [
  {
   "cell_type": "code",
   "execution_count": 25,
   "id": "27ebbed9",
   "metadata": {},
   "outputs": [],
   "source": [
    "import numpy as np\n",
    "import cv2\n",
    "import matplotlib.pyplot as plt"
   ]
  },
  {
   "cell_type": "code",
   "execution_count": 26,
   "id": "9c6083fc",
   "metadata": {},
   "outputs": [],
   "source": [
    "SIZE = 7"
   ]
  },
  {
   "cell_type": "code",
   "execution_count": 27,
   "id": "56785b0a",
   "metadata": {},
   "outputs": [],
   "source": [
    "class agent:\n",
    "    def __init__(self, pos):\n",
    "        self.pos = pos\n",
    "        self.rew = 0\n",
    "        \n",
    "    def move(self, a):\n",
    "        newpos = np.array(self.pos)\n",
    "        \n",
    "        if a == 0:\n",
    "            newpos = newpos + [-1,0]\n",
    "        \n",
    "        if a == 1:\n",
    "            newpos = newpos + [0,1]\n",
    "            \n",
    "        if a == 2:\n",
    "            newpos = newpos + [1,0]\n",
    "            \n",
    "        if a == 3:\n",
    "            newpos = newpos + [0,-1]\n",
    "            \n",
    "        \n",
    "        if not ((newpos[0] > SIZE-1 or newpos[0] < 0) or (newpos[1] > SIZE-1 or newpos[1] < 0)):\n",
    "            self.pos = tuple(newpos)"
   ]
  },
  {
   "cell_type": "code",
   "execution_count": 28,
   "id": "1ad88299",
   "metadata": {},
   "outputs": [],
   "source": [
    "OBSTACLES = [(0,4),(1,2),(2,2),(3,0),(3,2),(3,3),(3,6),(5,1),(5,2),(5,3),(5,6),(3,4),(3,1),(5,4),(5,5)]"
   ]
  },
  {
   "cell_type": "code",
   "execution_count": 29,
   "id": "59513fcb",
   "metadata": {},
   "outputs": [],
   "source": [
    "START = (0,0)\n",
    "FINISH = (6,6)\n",
    "\n",
    "OBSrew = -30\n",
    "WINrew = 30\n",
    "MOVErew = -1\n",
    "\n",
    "lr = 0.8"
   ]
  },
  {
   "cell_type": "code",
   "execution_count": 35,
   "id": "efe58c8e",
   "metadata": {},
   "outputs": [
    {
     "data": {
      "text/plain": [
       "array([[[0., 0., 0., 0.],\n",
       "        [0., 0., 0., 0.],\n",
       "        [0., 0., 0., 0.],\n",
       "        [0., 0., 0., 0.],\n",
       "        [0., 0., 0., 0.],\n",
       "        [0., 0., 0., 0.],\n",
       "        [0., 0., 0., 0.]],\n",
       "\n",
       "       [[0., 0., 0., 0.],\n",
       "        [0., 0., 0., 0.],\n",
       "        [0., 0., 0., 0.],\n",
       "        [0., 0., 0., 0.],\n",
       "        [0., 0., 0., 0.],\n",
       "        [0., 0., 0., 0.],\n",
       "        [0., 0., 0., 0.]],\n",
       "\n",
       "       [[0., 0., 0., 0.],\n",
       "        [0., 0., 0., 0.],\n",
       "        [0., 0., 0., 0.],\n",
       "        [0., 0., 0., 0.],\n",
       "        [0., 0., 0., 0.],\n",
       "        [0., 0., 0., 0.],\n",
       "        [0., 0., 0., 0.]],\n",
       "\n",
       "       [[0., 0., 0., 0.],\n",
       "        [0., 0., 0., 0.],\n",
       "        [0., 0., 0., 0.],\n",
       "        [0., 0., 0., 0.],\n",
       "        [0., 0., 0., 0.],\n",
       "        [0., 0., 0., 0.],\n",
       "        [0., 0., 0., 0.]],\n",
       "\n",
       "       [[0., 0., 0., 0.],\n",
       "        [0., 0., 0., 0.],\n",
       "        [0., 0., 0., 0.],\n",
       "        [0., 0., 0., 0.],\n",
       "        [0., 0., 0., 0.],\n",
       "        [0., 0., 0., 0.],\n",
       "        [0., 0., 0., 0.]],\n",
       "\n",
       "       [[0., 0., 0., 0.],\n",
       "        [0., 0., 0., 0.],\n",
       "        [0., 0., 0., 0.],\n",
       "        [0., 0., 0., 0.],\n",
       "        [0., 0., 0., 0.],\n",
       "        [0., 0., 0., 0.],\n",
       "        [0., 0., 0., 0.]],\n",
       "\n",
       "       [[0., 0., 0., 0.],\n",
       "        [0., 0., 0., 0.],\n",
       "        [0., 0., 0., 0.],\n",
       "        [0., 0., 0., 0.],\n",
       "        [0., 0., 0., 0.],\n",
       "        [0., 0., 0., 0.],\n",
       "        [0., 0., 0., 0.]]])"
      ]
     },
     "execution_count": 35,
     "metadata": {},
     "output_type": "execute_result"
    }
   ],
   "source": [
    "qt = np.zeros((SIZE,SIZE,4))\n",
    "qt"
   ]
  },
  {
   "cell_type": "code",
   "execution_count": null,
   "id": "9cc56b2e",
   "metadata": {},
   "outputs": [],
   "source": []
  },
  {
   "cell_type": "code",
   "execution_count": 31,
   "id": "9673b0dc",
   "metadata": {},
   "outputs": [],
   "source": [
    "for ep in range(20000):\n",
    "    a = agent(START)\n",
    "    state = a.pos\n",
    "    for steps in range(30):\n",
    "        curr = 0\n",
    "        done = False\n",
    "        action = np.random.randint(0,4)\n",
    "        \n",
    "        if np.random.randint(1,101) < 60:\n",
    "            a.move(action)\n",
    "        else:\n",
    "            action = np.argmax(qt[a.pos])\n",
    "            a.move(action)\n",
    "        \n",
    "        curr = MOVErew\n",
    "        \n",
    "        if a.pos in OBSTACLES:\n",
    "            curr = OBSrew\n",
    "            done = True\n",
    "            \n",
    "        if a.pos == FINISH:\n",
    "            curr = WINrew\n",
    "            done = True\n",
    "        \n",
    "        a.rew += curr\n",
    "        \n",
    "        newstate = a.pos\n",
    "        \n",
    "        qt[state][action] = curr + lr * max(qt[a.pos])\n",
    "        \n",
    "        state = newstate\n",
    "        \n",
    "#         if (ep+1) % 5000 == 0 or ep ==0:\n",
    "#             frame = np.zeros((SIZE,SIZE,3))\n",
    "#             for obs in OBSTACLES:\n",
    "#                 frame[obs] = [0,255,0]\n",
    "#             frame[FINISH] = [0,0,255]\n",
    "#             frame[a.pos] = [255,0,0]\n",
    "#             cv2.imshow(f\"ep = {ep}\", cv2.resize(frame,(500,500),interpolation = cv2.INTER_NEAREST))\n",
    "#             cv2.waitKey(200)\n",
    "        \n",
    "        if done:\n",
    "            break\n",
    "            \n",
    "#     cv2.destroyAllWindows()\n"
   ]
  },
  {
   "cell_type": "code",
   "execution_count": 32,
   "id": "9aa3e6d7",
   "metadata": {},
   "outputs": [],
   "source": [
    "cv2.destroyAllWindows()"
   ]
  },
  {
   "cell_type": "code",
   "execution_count": 39,
   "id": "37f61e56",
   "metadata": {
    "scrolled": false
   },
   "outputs": [
    {
     "data": {
      "text/plain": [
       "array([[[0., 0., 0., 0.],\n",
       "        [0., 0., 0., 0.],\n",
       "        [0., 0., 0., 0.],\n",
       "        [0., 0., 0., 0.],\n",
       "        [0., 0., 0., 0.],\n",
       "        [0., 0., 0., 0.],\n",
       "        [0., 0., 0., 0.]],\n",
       "\n",
       "       [[0., 0., 0., 0.],\n",
       "        [0., 0., 0., 0.],\n",
       "        [0., 0., 0., 0.],\n",
       "        [0., 0., 0., 0.],\n",
       "        [0., 0., 0., 0.],\n",
       "        [0., 0., 0., 0.],\n",
       "        [0., 0., 0., 0.]],\n",
       "\n",
       "       [[0., 0., 0., 0.],\n",
       "        [0., 0., 0., 0.],\n",
       "        [0., 0., 0., 0.],\n",
       "        [0., 0., 0., 0.],\n",
       "        [0., 0., 0., 0.],\n",
       "        [0., 0., 0., 0.],\n",
       "        [0., 0., 0., 0.]],\n",
       "\n",
       "       [[0., 0., 0., 0.],\n",
       "        [0., 0., 0., 0.],\n",
       "        [0., 0., 0., 0.],\n",
       "        [0., 0., 0., 0.],\n",
       "        [0., 0., 0., 0.],\n",
       "        [0., 0., 0., 0.],\n",
       "        [0., 0., 0., 0.]],\n",
       "\n",
       "       [[0., 0., 0., 0.],\n",
       "        [0., 0., 0., 0.],\n",
       "        [0., 0., 0., 0.],\n",
       "        [0., 0., 0., 0.],\n",
       "        [0., 0., 0., 0.],\n",
       "        [0., 0., 0., 0.],\n",
       "        [0., 0., 0., 0.]],\n",
       "\n",
       "       [[0., 0., 0., 0.],\n",
       "        [0., 0., 0., 0.],\n",
       "        [0., 0., 0., 0.],\n",
       "        [0., 0., 0., 0.],\n",
       "        [0., 0., 0., 0.],\n",
       "        [0., 0., 0., 0.],\n",
       "        [0., 0., 0., 0.]],\n",
       "\n",
       "       [[0., 0., 0., 0.],\n",
       "        [0., 0., 0., 0.],\n",
       "        [0., 0., 0., 0.],\n",
       "        [0., 0., 0., 0.],\n",
       "        [0., 0., 0., 0.],\n",
       "        [0., 0., 0., 0.],\n",
       "        [0., 0., 0., 0.]]])"
      ]
     },
     "execution_count": 39,
     "metadata": {},
     "output_type": "execute_result"
    }
   ],
   "source": [
    "qt"
   ]
  },
  {
   "cell_type": "code",
   "execution_count": 40,
   "id": "d5f2569f",
   "metadata": {},
   "outputs": [
    {
     "data": {
      "text/plain": [
       "(6, 6)"
      ]
     },
     "execution_count": 40,
     "metadata": {},
     "output_type": "execute_result"
    }
   ],
   "source": [
    "state"
   ]
  },
  {
   "cell_type": "code",
   "execution_count": 34,
   "id": "fdcd3e5e",
   "metadata": {},
   "outputs": [
    {
     "name": "stdout",
     "output_type": "stream",
     "text": [
      "(0, 0)\n",
      "1 --- (0, 1)\n",
      "2 --- (0, 2)\n",
      "3 --- (0, 3)\n",
      "4 --- (1, 3)\n",
      "5 --- (1, 4)\n",
      "6 --- (1, 5)\n",
      "7 --- (2, 5)\n",
      "8 --- (3, 5)\n",
      "9 --- (4, 5)\n",
      "10 --- (4, 4)\n",
      "11 --- (4, 3)\n",
      "12 --- (4, 2)\n",
      "13 --- (4, 1)\n",
      "14 --- (4, 0)\n",
      "15 --- (5, 0)\n",
      "16 --- (6, 0)\n",
      "17 --- (6, 1)\n",
      "18 --- (6, 2)\n",
      "19 --- (6, 3)\n",
      "20 --- (6, 4)\n",
      "21 --- (6, 5)\n",
      "22 --- (6, 6)\n",
      "9\n"
     ]
    }
   ],
   "source": [
    "a = agent(START)\n",
    "state = a.pos\n",
    "\n",
    "print(a.pos)\n",
    "for steps in range(30):\n",
    "    curr = 0\n",
    "    done = False\n",
    "\n",
    "    action = np.argmax(qt[a.pos])\n",
    "    a.move(action)\n",
    "\n",
    "    curr = MOVErew\n",
    "\n",
    "    if a.pos in OBSTACLES:\n",
    "        curr = OBSrew\n",
    "        done = True\n",
    "\n",
    "    if a.pos == FINISH:\n",
    "        curr = WINrew\n",
    "        done = True\n",
    "\n",
    "    a.rew += curr\n",
    "\n",
    "    newstate = a.pos\n",
    "\n",
    "    state = newstate\n",
    "    \n",
    "    print(f\"{steps+1} --- {a.pos}\")\n",
    "    \n",
    "#     frame = np.zeros((SIZE,SIZE,3))\n",
    "#     for obs in OBSTACLES:\n",
    "#         frame[obs] = [0,255,0]\n",
    "#     frame[FINISH] = [0,0,255]\n",
    "#     frame[a.pos] = [255,0,0]\n",
    "#     cv2.imshow(f\"Solution\", cv2.resize(frame,(500,500),interpolation = cv2.INTER_NEAREST))\n",
    "#     cv2.waitKey(200)\n",
    "\n",
    "    if done:\n",
    "        break\n",
    "\n",
    "#         print(f\"\\r{ep} --- {curr}    \",end=\"\")\n",
    "print(a.rew)\n",
    "\n",
    "# cv2.destroyAllWindows()"
   ]
  },
  {
   "cell_type": "code",
   "execution_count": null,
   "id": "100702b5",
   "metadata": {},
   "outputs": [],
   "source": []
  }
 ],
 "metadata": {
  "kernelspec": {
   "display_name": "Python 3 (ipykernel)",
   "language": "python",
   "name": "python3"
  },
  "language_info": {
   "codemirror_mode": {
    "name": "ipython",
    "version": 3
   },
   "file_extension": ".py",
   "mimetype": "text/x-python",
   "name": "python",
   "nbconvert_exporter": "python",
   "pygments_lexer": "ipython3",
   "version": "3.9.13"
  }
 },
 "nbformat": 4,
 "nbformat_minor": 5
}
